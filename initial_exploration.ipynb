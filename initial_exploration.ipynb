{
 "cells": [
  {
   "cell_type": "code",
   "execution_count": 34,
   "id": "f3d09dc7",
   "metadata": {},
   "outputs": [],
   "source": [
    "import os\n",
    "import pandas as pd\n",
    "\n",
    "# Directory containing the data files\n",
    "data_dir = \"alpha_vantage_data\"\n",
    "\n",
    "# List all CSV files in the directory\n",
    "files = [f for f in os.listdir(data_dir) if f.endswith('.csv')]\n",
    "\n",
    "# Load and concatenate all CSV files into one DataFrame\n",
    "df = pd.concat([pd.read_csv(os.path.join(data_dir, f)) for f in files], ignore_index=True)\n",
    "\n",
    "# df"
   ]
  },
  {
   "cell_type": "code",
   "execution_count": 35,
   "id": "85eeac6a",
   "metadata": {
    "vscode": {
     "languageId": "ruby"
    }
   },
   "outputs": [],
   "source": [
    "import numpy as np\n",
    "\n",
    "# Calculate log returns\n",
    "df['log_return'] = np.log(df['close'] / df['close'].shift(1))\n",
    "df.dropna(inplace=True)"
   ]
  },
  {
   "cell_type": "code",
   "execution_count": 36,
   "id": "1b761dbd",
   "metadata": {
    "vscode": {
     "languageId": "ruby"
    }
   },
   "outputs": [
    {
     "data": {
      "text/html": [
       "<div>\n",
       "<style scoped>\n",
       "    .dataframe tbody tr th:only-of-type {\n",
       "        vertical-align: middle;\n",
       "    }\n",
       "\n",
       "    .dataframe tbody tr th {\n",
       "        vertical-align: top;\n",
       "    }\n",
       "\n",
       "    .dataframe thead th {\n",
       "        text-align: right;\n",
       "    }\n",
       "</style>\n",
       "<table border=\"1\" class=\"dataframe\">\n",
       "  <thead>\n",
       "    <tr style=\"text-align: right;\">\n",
       "      <th></th>\n",
       "      <th>open</th>\n",
       "      <th>high</th>\n",
       "      <th>low</th>\n",
       "      <th>close</th>\n",
       "      <th>volume</th>\n",
       "      <th>log_return</th>\n",
       "    </tr>\n",
       "  </thead>\n",
       "  <tbody>\n",
       "    <tr>\n",
       "      <th>count</th>\n",
       "      <td>148304.000000</td>\n",
       "      <td>148304.000000</td>\n",
       "      <td>148304.000000</td>\n",
       "      <td>148304.000000</td>\n",
       "      <td>1.483040e+05</td>\n",
       "      <td>148304.000000</td>\n",
       "    </tr>\n",
       "    <tr>\n",
       "      <th>mean</th>\n",
       "      <td>188.868258</td>\n",
       "      <td>188.927092</td>\n",
       "      <td>188.808550</td>\n",
       "      <td>188.868354</td>\n",
       "      <td>1.228049e+04</td>\n",
       "      <td>-0.000001</td>\n",
       "    </tr>\n",
       "    <tr>\n",
       "      <th>std</th>\n",
       "      <td>22.622569</td>\n",
       "      <td>22.628825</td>\n",
       "      <td>22.615777</td>\n",
       "      <td>22.622388</td>\n",
       "      <td>1.091321e+05</td>\n",
       "      <td>0.002362</td>\n",
       "    </tr>\n",
       "    <tr>\n",
       "      <th>min</th>\n",
       "      <td>139.618900</td>\n",
       "      <td>150.446000</td>\n",
       "      <td>139.618900</td>\n",
       "      <td>149.484200</td>\n",
       "      <td>1.000000e+00</td>\n",
       "      <td>-0.303360</td>\n",
       "    </tr>\n",
       "    <tr>\n",
       "      <th>25%</th>\n",
       "      <td>171.017000</td>\n",
       "      <td>171.075300</td>\n",
       "      <td>170.978200</td>\n",
       "      <td>171.026700</td>\n",
       "      <td>7.600000e+01</td>\n",
       "      <td>-0.000293</td>\n",
       "    </tr>\n",
       "    <tr>\n",
       "      <th>50%</th>\n",
       "      <td>183.210000</td>\n",
       "      <td>183.277200</td>\n",
       "      <td>183.148000</td>\n",
       "      <td>183.215900</td>\n",
       "      <td>3.021000e+03</td>\n",
       "      <td>0.000000</td>\n",
       "    </tr>\n",
       "    <tr>\n",
       "      <th>75%</th>\n",
       "      <td>209.101600</td>\n",
       "      <td>209.160300</td>\n",
       "      <td>209.070850</td>\n",
       "      <td>209.101600</td>\n",
       "      <td>6.278000e+03</td>\n",
       "      <td>0.000285</td>\n",
       "    </tr>\n",
       "    <tr>\n",
       "      <th>max</th>\n",
       "      <td>236.135400</td>\n",
       "      <td>236.499300</td>\n",
       "      <td>235.928200</td>\n",
       "      <td>236.157300</td>\n",
       "      <td>1.200030e+07</td>\n",
       "      <td>0.340371</td>\n",
       "    </tr>\n",
       "  </tbody>\n",
       "</table>\n",
       "</div>"
      ],
      "text/plain": [
       "                open           high            low          close  \\\n",
       "count  148304.000000  148304.000000  148304.000000  148304.000000   \n",
       "mean      188.868258     188.927092     188.808550     188.868354   \n",
       "std        22.622569      22.628825      22.615777      22.622388   \n",
       "min       139.618900     150.446000     139.618900     149.484200   \n",
       "25%       171.017000     171.075300     170.978200     171.026700   \n",
       "50%       183.210000     183.277200     183.148000     183.215900   \n",
       "75%       209.101600     209.160300     209.070850     209.101600   \n",
       "max       236.135400     236.499300     235.928200     236.157300   \n",
       "\n",
       "             volume     log_return  \n",
       "count  1.483040e+05  148304.000000  \n",
       "mean   1.228049e+04      -0.000001  \n",
       "std    1.091321e+05       0.002362  \n",
       "min    1.000000e+00      -0.303360  \n",
       "25%    7.600000e+01      -0.000293  \n",
       "50%    3.021000e+03       0.000000  \n",
       "75%    6.278000e+03       0.000285  \n",
       "max    1.200030e+07       0.340371  "
      ]
     },
     "execution_count": 36,
     "metadata": {},
     "output_type": "execute_result"
    }
   ],
   "source": [
    "df.describe()"
   ]
  },
  {
   "cell_type": "code",
   "execution_count": null,
   "id": "5528eaf5",
   "metadata": {},
   "outputs": [],
   "source": []
  }
 ],
 "metadata": {
  "kernelspec": {
   "display_name": ".venv",
   "language": "python",
   "name": "python3"
  },
  "language_info": {
   "codemirror_mode": {
    "name": "ipython",
    "version": 3
   },
   "file_extension": ".py",
   "mimetype": "text/x-python",
   "name": "python",
   "nbconvert_exporter": "python",
   "pygments_lexer": "ipython3",
   "version": "3.13.3"
  }
 },
 "nbformat": 4,
 "nbformat_minor": 5
}
