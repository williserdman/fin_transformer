{
 "cells": [
  {
   "cell_type": "code",
   "execution_count": 64,
   "id": "171531bd",
   "metadata": {},
   "outputs": [],
   "source": [
    "with open(\"input.txt\", \"r\") as f:\n",
    "    text = f.read()"
   ]
  },
  {
   "cell_type": "code",
   "execution_count": 65,
   "id": "47cbf446",
   "metadata": {},
   "outputs": [
    {
     "name": "stdout",
     "output_type": "stream",
     "text": [
      "length is: 1115394\n",
      "\n",
      "\n",
      "First 100 chars:\n",
      "--------\n",
      "First Citizen:\n",
      "Before we proceed any further, hear me speak.\n",
      "\n",
      "All:\n",
      "Speak, speak.\n",
      "\n",
      "First Citizen:\n",
      "You\n"
     ]
    }
   ],
   "source": [
    "print(f\"length is: {len(text)}\")\n",
    "\n",
    "print(\"\\n\\nFirst 100 chars:\\n--------\")\n",
    "print(text[:100])"
   ]
  },
  {
   "cell_type": "code",
   "execution_count": 66,
   "id": "20f10800",
   "metadata": {},
   "outputs": [
    {
     "name": "stdout",
     "output_type": "stream",
     "text": [
      "\n",
      "\n",
      "Vocab size: 65\n",
      "\n",
      " !$&',-.3:;?ABCDEFGHIJKLMNOPQRSTUVWXYZabcdefghijklmnopqrstuvwxyz\n"
     ]
    }
   ],
   "source": [
    "chars = sorted(list(set(text)))\n",
    "vocab_size = len(chars)\n",
    "print(f\"\\n\\nVocab size: {vocab_size}\")\n",
    "print(\"\".join(chars))"
   ]
  },
  {
   "cell_type": "code",
   "execution_count": 67,
   "id": "fd7a75a4",
   "metadata": {},
   "outputs": [
    {
     "name": "stdout",
     "output_type": "stream",
     "text": [
      "[46, 47, 47, 1, 58, 46, 43, 56, 43]\n",
      "hii there\n"
     ]
    }
   ],
   "source": [
    "stoi = {ch: i for i, ch in enumerate(chars)}\n",
    "itos = {i: ch for i, ch in enumerate(chars)}\n",
    "\n",
    "encode = lambda s: [stoi[c] for c in s]\n",
    "decode = lambda l: \"\".join([itos[i] for i in l])\n",
    "\n",
    "print(encode(\"hii there\"))\n",
    "print(decode(encode(\"hii there\")))"
   ]
  },
  {
   "cell_type": "code",
   "execution_count": 68,
   "id": "da5ee8e4",
   "metadata": {},
   "outputs": [
    {
     "name": "stdout",
     "output_type": "stream",
     "text": [
      "data type: torch.int64\n",
      "data shape: torch.Size([1115394])\n",
      "data: tensor([18, 47, 56, 57, 58,  1, 15, 47, 58, 47, 64, 43, 52, 10,  0, 14, 43, 44,\n",
      "        53, 56, 43,  1, 61, 43,  1, 54, 56, 53, 41, 43, 43, 42,  1, 39, 52, 63,\n",
      "         1, 44, 59, 56, 58, 46, 43, 56,  6,  1, 46, 43, 39, 56,  1, 51, 43,  1,\n",
      "        57, 54, 43, 39, 49,  8,  0,  0, 13, 50, 50, 10,  0, 31, 54, 43, 39, 49,\n",
      "         6,  1, 57, 54, 43, 39, 49,  8,  0,  0, 18, 47, 56, 57, 58,  1, 15, 47,\n",
      "        58, 47, 64, 43, 52, 10,  0, 37, 53, 59])\n"
     ]
    }
   ],
   "source": [
    "import torch\n",
    "\n",
    "data = torch.tensor(encode(text), dtype=torch.long)\n",
    "print(f\"data type: {data.dtype}\")\n",
    "print(f\"data shape: {data.shape}\")\n",
    "print(f\"data: {data[:100]}\")"
   ]
  },
  {
   "cell_type": "code",
   "execution_count": 69,
   "id": "4f450899",
   "metadata": {},
   "outputs": [],
   "source": [
    "n = int(0.9 * len(data))\n",
    "train_data = data[:n]\n",
    "val_data = data[n:]"
   ]
  },
  {
   "cell_type": "code",
   "execution_count": 70,
   "id": "13860424",
   "metadata": {},
   "outputs": [
    {
     "data": {
      "text/plain": [
       "tensor([18, 47, 56, 57, 58,  1, 15, 47, 58])"
      ]
     },
     "execution_count": 70,
     "metadata": {},
     "output_type": "execute_result"
    }
   ],
   "source": [
    "context_size = 8\n",
    "train_data[:context_size + 1]"
   ]
  },
  {
   "cell_type": "code",
   "execution_count": 71,
   "id": "d5197098",
   "metadata": {},
   "outputs": [
    {
     "name": "stdout",
     "output_type": "stream",
     "text": [
      "xb shape: torch.Size([4, 8])\n",
      "xb: tensor([[24, 43, 58,  5, 57,  1, 46, 43],\n",
      "        [44, 53, 56,  1, 58, 46, 39, 58],\n",
      "        [52, 58,  1, 58, 46, 39, 58,  1],\n",
      "        [25, 17, 27, 10,  0, 21,  1, 54]])\n"
     ]
    }
   ],
   "source": [
    "torch.manual_seed(1337)\n",
    "batch_size = 4 # this is how many independent sequences will we process in parallel\n",
    "block_size = 8 # this is max context lenth for predictions\n",
    "\n",
    "def get_batch(split):\n",
    "    \"\"\"\n",
    "    Generate a small bath of inputs x and targets y.\n",
    "    \"\"\"\n",
    "\n",
    "    data = train_data if split == \"train\" else val_data\n",
    "    ix = torch.randint(len(data) - block_size, (batch_size,)) # index of first value in the context\n",
    "    x = torch.stack([data[i:i + block_size] for i in ix]) # context\n",
    "    y = torch.stack([data[i + 1:i + block_size + 1] for i in ix]) # target, context shifted by one\n",
    "    return x, y\n",
    "\n",
    "xb, yb = get_batch(\"train\")\n",
    "print(f\"xb shape: {xb.shape}\")\n",
    "print(f\"xb: {xb}\") # 32 independent examples"
   ]
  },
  {
   "cell_type": "code",
   "execution_count": null,
   "id": "878aa14f",
   "metadata": {},
   "outputs": [
    {
     "name": "stdout",
     "output_type": "stream",
     "text": [
      "out shape: torch.Size([32, 65])\n",
      "tensor(4.8786, grad_fn=<NllLossBackward0>)\n"
     ]
    }
   ],
   "source": [
    "import torch.nn as nn\n",
    "from torch.nn import functional as F\n",
    "\n",
    "torch.manual_seed(1337)\n",
    "\n",
    "class BigramLanguageModel(nn.Module):\n",
    "    def __init__(self, vocab_size):\n",
    "        super().__init__()\n",
    "        \n",
    "        # creating an embedding table like we did above in PyTorch this time\n",
    "        self.token_embedding_table = nn.Embedding(vocab_size, vocab_size)\n",
    "\n",
    "        # creating a token embedding table of size vocab_size x vocab_size\n",
    "        # nn.Embedding is a (thin) wrapper around a tensor of size vocab_size x vocab_size\n",
    "\n",
    "\n",
    "    def forward(self, idx, targets=None):\n",
    "\n",
    "        # idx and targets are both (B, ) tensor of integers\n",
    "        logits = self.token_embedding_table(idx) \n",
    "        # will arrange in a batch by time by channel tensor (4 x 8 x embedding size) (B, T, C)\n",
    "        # this will be interpreted as scores or logits of what comes next in the sequence\n",
    "        # predicting what comes next based on the individual identity of a single token\n",
    "        # token are not seeing any context currently except for themselves\n",
    "        # each integer in our embedding table will pluck our a row from this table corresponding to its index\n",
    "\n",
    "        # how well are we predicting the next character based on the logits?\n",
    "        # logits is B x T x C tensor, cross entropy needs \n",
    "        if targets is None:\n",
    "            loss = None\n",
    "        else:\n",
    "            B, T, C = logits.shape\n",
    "            logits = logits.view(B*T, C)\n",
    "            targets = targets.view(B*T) # \n",
    "            loss = F.cross_entropy(logits, targets)\n",
    "\n",
    "        return logits, loss\n",
    "    \n",
    "    def generate(self, idx, max_new_tokens):\n",
    "        # idx is (B, T) array of indices in the current context\n",
    "        for _ in range(max_new_tokens):\n",
    "            # get the predictions, in the logits, loss is ignored\n",
    "            logits, loss = self(idx) # this self\n",
    "            # focus on the last time step\n",
    "            logits = logits[:, -1, :] # (B, C)\n",
    "            # apply softmax to get probabilities\n",
    "            probs = F.softmax(logits, dim=-1) # (B, C)\n",
    "            # sample from the distribution\n",
    "            idx_next = torch.multinomial(probs, num_samples=1) # (B, 1)\n",
    "            # append sampled index to the running sequence\n",
    "            idx = torch.cat((idx, idx_next), dim=1) # (B, T + 1)\n",
    "        return idx\n",
    "            \n",
    "\n",
    "m = BigramLanguageModel(vocab_size)\n",
    "logits, loss = m(xb, yb)\n",
    "print(f\"out shape: {logits.shape}\")\n",
    "print(loss)"
   ]
  },
  {
   "cell_type": "code",
   "execution_count": null,
   "id": "d03e0aef",
   "metadata": {},
   "outputs": [
    {
     "name": "stdout",
     "output_type": "stream",
     "text": [
      "\n",
      "SKIcLT;AcELMoTbvZv C?nq-QE33:CJqkOKH-q;:la!oiywkHjgChzbQ?u!3bLIgwevmyFJGUGp\n",
      "wnYWmnxKWWev-tDqXErVKLgJ\n"
     ]
    }
   ],
   "source": [
    "# one by one tensor holding a zero\n",
    "idx_local = torch.zeros((1, 1), dtype=torch.long) # (1, 1), we kick of generation with 0 (newline character)\n",
    "\n",
    "print(decode(m.generate(idx = idx_local, max_new_tokens=100)[0].tolist()))\n",
    "\n",
    "# garbage output because totally random (untrained) model"
   ]
  },
  {
   "cell_type": "code",
   "execution_count": 74,
   "id": "47cf9b2d",
   "metadata": {},
   "outputs": [],
   "source": [
    "# create pytorch optimizer\n",
    "optimizer = torch.optim.AdamW(m.parameters(), lr=1e-3) # this is a very fast learning rage"
   ]
  },
  {
   "cell_type": "code",
   "execution_count": 76,
   "id": "10adde75",
   "metadata": {},
   "outputs": [
    {
     "name": "stdout",
     "output_type": "stream",
     "text": [
      "2.451270580291748\n"
     ]
    }
   ],
   "source": [
    "batch_size = 32\n",
    "for steps in range(10_000):\n",
    "    xb, yb = get_batch(\"train\")\n",
    "\n",
    "    logits, loss = m(xb, yb)\n",
    "    optimizer.zero_grad(set_to_none=True) # zero out the gradients\n",
    "    loss.backward() # compute the gradients\n",
    "    optimizer.step() # update the parameters\n",
    "\n",
    "print(loss.item())"
   ]
  },
  {
   "cell_type": "code",
   "execution_count": 83,
   "id": "0cf09f8c",
   "metadata": {},
   "outputs": [
    {
     "name": "stdout",
     "output_type": "stream",
     "text": [
      "\n",
      "catlo pr itheewhimousorendouere t che tofo ixf an.\n",
      "Whe! V:\n",
      "\n",
      "Whifouthand nd athito cameralourgallain \n"
     ]
    }
   ],
   "source": [
    "idx_local = torch.zeros((1, 1), dtype=torch.long)\n",
    "print(decode(m.generate(idx = idx_local, max_new_tokens=100)[0].tolist()))"
   ]
  },
  {
   "cell_type": "code",
   "execution_count": null,
   "id": "2017b7a0",
   "metadata": {},
   "outputs": [],
   "source": []
  }
 ],
 "metadata": {
  "kernelspec": {
   "display_name": ".venv",
   "language": "python",
   "name": "python3"
  },
  "language_info": {
   "codemirror_mode": {
    "name": "ipython",
    "version": 3
   },
   "file_extension": ".py",
   "mimetype": "text/x-python",
   "name": "python",
   "nbconvert_exporter": "python",
   "pygments_lexer": "ipython3",
   "version": "3.13.3"
  }
 },
 "nbformat": 4,
 "nbformat_minor": 5
}
